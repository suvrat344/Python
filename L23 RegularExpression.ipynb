{
 "cells": [
  {
   "cell_type": "markdown",
   "id": "2c04ac03",
   "metadata": {},
   "source": [
    "## Regular Expression"
   ]
  },
  {
   "cell_type": "code",
   "execution_count": null,
   "id": "bf62a8a8",
   "metadata": {},
   "outputs": [],
   "source": [
    "# You are asked to ensure that the first and last names of people begin with a capital letter in their passports. For example, \n",
    "# alison heck should be capitalised correctly as Alison Heck.\n",
    "# alison heck -> Alison Heck\n",
    "# Given a full name, your task is to capitalize the name appropriately.\n",
    "\n",
    "import re\n",
    "\n",
    "def capitalize(name):\n",
    "    words = re.findall(r'\\b\\w+\\b',name)\n",
    "    capitalized_words = [word.capitalize() if(word.isalpha()) else word for word in words]\n",
    "    return \" \".join(capitalized_words)\n",
    "    \n",
    "name = \"1 w 2 r 3g\"\n",
    "capitalize(name)"
   ]
  },
  {
   "cell_type": "code",
   "execution_count": null,
   "id": "e28cd646",
   "metadata": {},
   "outputs": [],
   "source": [
    "# CSS colors are defined using a hexadecimal (HEX) notation for the combination of Red, Green, and Blue color values (RGB).\n",
    "# Specifications of HEX Color Code\n",
    "#    It must start with a '#' symbol.\n",
    "#    It can have 3 or 6 digits.\n",
    "#    Each digit is in the range of 0 to F. (1,2,3,4,5,6,7,8,9,0,A,B,C,D,E and F).\n",
    "#    A-F letters can be lower case. (a,b,c,d,e,f and  are also valid digits).\n",
    "# Examples\n",
    "#Valid Hex Color Codes\n",
    "    #FFF \n",
    "    #025 \n",
    "    #F0A1FB \n",
    "#Invalid Hex Color Codes\n",
    "    #fffabg\n",
    "    #abcf\n",
    "    #12365erff\n",
    "# You are given N lines of CSS code. Your task is to print all valid Hex Color Codes, in order of their occurrence from top to \n",
    "# bottom.\n",
    "\n",
    "#BED\n",
    "#{\n",
    "#    color: #FfFdF8; background-color:#aef;\n",
    "#    font-size: 123px;\n",
    "#    background: -webkit-linear-gradient(top, #f9f9f9, #fff);\n",
    "#}\n",
    "#Cab\n",
    "#{\n",
    "#    background-color: #ABC;\n",
    "#    border: 2px dashed #fff;\n",
    "#} \n",
    "                                        \n",
    "#FfFdF8\n",
    "#aef\n",
    "#f9f9f9\n",
    "#fff\n",
    "#ABC\n",
    "#fff\n",
    "\n",
    "import re\n",
    "\n",
    "color = \"\"\"\n",
    "#BED\n",
    "{\n",
    "    color: #FfFdF8; background-color:#aef;\n",
    "   font-size: 123px;\n",
    "   background: -webkit-linear-gradient(top, #f9f9f9, #fff);\n",
    "}\n",
    "#Cab\n",
    "{\n",
    "    background-color: #ABC;\n",
    "    border: 2px dashed #fff;\n",
    "}\n",
    "\"\"\"\n",
    "\n",
    "hexadecimal_color = re.findall(\"(#[A-Fa-f0-9]{6}|#[A-Fa-f0-9]{3})\",color)\n",
    "selector = re.findall(\"^#[a-zA-Z0-9]+\",color,flags=re.MULTILINE)\n",
    "for color in hexadecimal_color:\n",
    "    if color not in selector:\n",
    "        print(color)"
   ]
  },
  {
   "cell_type": "code",
   "execution_count": null,
   "id": "e3aa2bff",
   "metadata": {},
   "outputs": [],
   "source": []
  }
 ],
 "metadata": {
  "kernelspec": {
   "display_name": "Python 3 (ipykernel)",
   "language": "python",
   "name": "python3"
  },
  "language_info": {
   "codemirror_mode": {
    "name": "ipython",
    "version": 3
   },
   "file_extension": ".py",
   "mimetype": "text/x-python",
   "name": "python",
   "nbconvert_exporter": "python",
   "pygments_lexer": "ipython3",
   "version": "3.11.5"
  }
 },
 "nbformat": 4,
 "nbformat_minor": 5
}
