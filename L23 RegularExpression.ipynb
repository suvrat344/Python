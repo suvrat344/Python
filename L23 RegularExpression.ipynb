{
 "cells": [
  {
   "cell_type": "markdown",
   "id": "2c04ac03",
   "metadata": {},
   "source": [
    "## Regular Expression"
   ]
  },
  {
   "cell_type": "code",
   "execution_count": null,
   "id": "40b35044",
   "metadata": {},
   "outputs": [],
   "source": [
    "import re"
   ]
  },
  {
   "cell_type": "code",
   "execution_count": null,
   "id": "bf62a8a8",
   "metadata": {},
   "outputs": [],
   "source": [
    "# You are asked to ensure that the first and last names of people begin with a capital letter in their passports. For example, \n",
    "# alison heck should be capitalised correctly as Alison Heck.\n",
    "# alison heck -> Alison Heck\n",
    "# Given a full name, your task is to capitalize the name appropriately.\n",
    "\n",
    "def capitalize(name):\n",
    "    words = re.findall(r'\\b\\w+\\b',name)\n",
    "    capitalized_words = [word.capitalize() if(word.isalpha()) else word for word in words]\n",
    "    return \" \".join(capitalized_words)\n",
    "    \n",
    "name = \"1 w 2 r 3g\"\n",
    "capitalize(name)"
   ]
  },
  {
   "cell_type": "code",
   "execution_count": null,
   "id": "e28cd646",
   "metadata": {},
   "outputs": [],
   "source": [
    "# CSS colors are defined using a hexadecimal (HEX) notation for the combination of Red, Green, and Blue color values (RGB).\n",
    "# Specifications of HEX Color Code\n",
    "#    It must start with a '#' symbol.\n",
    "#    It can have 3 or 6 digits.\n",
    "#    Each digit is in the range of 0 to F. (1,2,3,4,5,6,7,8,9,0,A,B,C,D,E and F).\n",
    "#    A-F letters can be lower case. (a,b,c,d,e,f and  are also valid digits).\n",
    "# Examples\n",
    "#Valid Hex Color Codes\n",
    "    #FFF \n",
    "    #025 \n",
    "    #F0A1FB \n",
    "#Invalid Hex Color Codes\n",
    "    #fffabg\n",
    "    #abcf\n",
    "    #12365erff\n",
    "# You are given N lines of CSS code. Your task is to print all valid Hex Color Codes, in order of their occurrence from top to \n",
    "# bottom.\n",
    "\n",
    "#BED\n",
    "#{\n",
    "#    color: #FfFdF8; background-color:#aef;\n",
    "#    font-size: 123px;\n",
    "#    background: -webkit-linear-gradient(top, #f9f9f9, #fff);\n",
    "#}\n",
    "#Cab\n",
    "#{\n",
    "#    background-color: #ABC;\n",
    "#    border: 2px dashed #fff;\n",
    "#} \n",
    "                                        \n",
    "#FfFdF8\n",
    "#aef\n",
    "#f9f9f9\n",
    "#fff\n",
    "#ABC\n",
    "#fff\n",
    "\n",
    "color = \"\"\"\n",
    "#BED\n",
    "{\n",
    "    color: #FfFdF8; background-color:#aef;\n",
    "   font-size: 123px;\n",
    "   background: -webkit-linear-gradient(top, #f9f9f9, #fff);\n",
    "}\n",
    "#Cab\n",
    "{\n",
    "    background-color: #ABC;\n",
    "    border: 2px dashed #fff;\n",
    "}\n",
    "\"\"\"\n",
    "\n",
    "hexadecimal_color = re.findall(\"(#[A-Fa-f0-9]{6}|#[A-Fa-f0-9]{3})\",color)\n",
    "selector = re.findall(\"^#[a-zA-Z0-9]+\",color,flags=re.MULTILINE)\n",
    "for color in hexadecimal_color:\n",
    "    if color not in selector:\n",
    "        print(color)"
   ]
  },
  {
   "cell_type": "code",
   "execution_count": null,
   "id": "e3aa2bff",
   "metadata": {},
   "outputs": [],
   "source": [
    "# You have a test string . Your task is to match the pattern \n",
    "# xxXxxXxxxx\n",
    "# Here x denotes a digit character, and X denotes a non-digit character.\n",
    "\n",
    "inp = \"06-11-2015\"\n",
    "regex_pattern = r\"\\d\\d\\D\\d\\d\\D\\d\\d\\d\\d\"\n",
    "print(bool(re.search(regex_pattern,inp)))"
   ]
  },
  {
   "cell_type": "code",
   "execution_count": null,
   "id": "d96dd27e",
   "metadata": {},
   "outputs": [],
   "source": [
    "# You have a test string S. Your task is to match the string hackerrank. This is case sensitive.\n",
    "\n",
    "s = \"The hackerrank team is on a mission to flatten the world by restructuring the DNA of every company on the planet. We rank \\\n",
    "programmers based on their coding skills, helping companies source great programmers and reduce the time to hire. As a result, \\\n",
    "we are revolutionizing the way companies discover and evaluate talented engineers. The hackerrank platform is the destination \\\n",
    "for the best engineers to hone their skills and companies to find top engineers.\"\n",
    "\n",
    "regex_pattern = r\"hackerrank\"\n",
    "matches = re.findall(regex_pattern,s)\n",
    "print(\"No of matches : \",len(matches))"
   ]
  },
  {
   "cell_type": "code",
   "execution_count": null,
   "id": "18e4e21e",
   "metadata": {},
   "outputs": [],
   "source": []
  }
 ],
 "metadata": {
  "kernelspec": {
   "display_name": "Python 3 (ipykernel)",
   "language": "python",
   "name": "python3"
  },
  "language_info": {
   "codemirror_mode": {
    "name": "ipython",
    "version": 3
   },
   "file_extension": ".py",
   "mimetype": "text/x-python",
   "name": "python",
   "nbconvert_exporter": "python",
   "pygments_lexer": "ipython3",
   "version": "3.11.5"
  }
 },
 "nbformat": 4,
 "nbformat_minor": 5
}
