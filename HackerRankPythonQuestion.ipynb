{
 "cells": [
  {
   "cell_type": "markdown",
   "id": "4c93909f",
   "metadata": {},
   "source": [
    "## Hacker Rank Python Question"
   ]
  },
  {
   "cell_type": "code",
   "execution_count": null,
   "id": "fda1bc0e",
   "metadata": {},
   "outputs": [],
   "source": []
  },
  {
   "cell_type": "code",
   "execution_count": 1,
   "id": "7d4a3884",
   "metadata": {},
   "outputs": [
    {
     "name": "stdout",
     "output_type": "stream",
     "text": [
      "Weird\n"
     ]
    }
   ],
   "source": [
    "# 2\n",
    "# Given an integer, , perform the following conditional actions:\n",
    "# If n is odd, print Weird\n",
    "# If n is even and in the inclusive range of 2 to 5, print Not Weird\n",
    "# If n is even and in the inclusive range of 6 to 20, print Weird\n",
    "# If n is even and greater than 20, print Not Weird\n",
    "\n",
    "n = 3\n",
    "\n",
    "if(n % 2 == 1):\n",
    "    print(\"Weird\")\n",
    "elif(n % 2 ==  0):\n",
    "    if(2 <= n <= 5):\n",
    "        print(\"Not Weird\")\n",
    "    elif(6 <= n <= 20):\n",
    "        print(\"Weird\")\n",
    "    else:\n",
    "        print(\"Not Weird\")"
   ]
  },
  {
   "cell_type": "code",
   "execution_count": 2,
   "id": "946c7667",
   "metadata": {},
   "outputs": [
    {
     "name": "stdout",
     "output_type": "stream",
     "text": [
      "8\n",
      "-2\n",
      "15\n"
     ]
    }
   ],
   "source": [
    "# 3.\n",
    "# The provided code stub reads two integers from STDIN,a  and b. Add code to print three lines where:\n",
    "# The first line contains the sum of the two numbers.\n",
    "# The second line contains the difference of the two numbers (first - second).\n",
    "# The third line contains the product of the two numbers.\n",
    "# Example\n",
    "# a =3 \n",
    "# b = 5\n",
    "# Print the following:\n",
    "# 8\n",
    "# -2\n",
    "# 15\n",
    "\n",
    "a = 3\n",
    "b = 5\n",
    "\n",
    "print(a + b)\n",
    "print(a - b)\n",
    "print(a * b)"
   ]
  },
  {
   "cell_type": "code",
   "execution_count": 3,
   "id": "8263e26f",
   "metadata": {},
   "outputs": [
    {
     "name": "stdout",
     "output_type": "stream",
     "text": [
      "0\n",
      "0.6\n"
     ]
    }
   ],
   "source": [
    "# 4.\n",
    "# The provided code stub reads two integers, a and b, from STDIN.\n",
    "# Add logic to print two lines. The first line should contain the result of integer division,  a // b . The second line should\n",
    "# contain the result of float division, a / b.\n",
    "# No rounding or formatting is necessary.\n",
    "# Example\n",
    "# a = 3\n",
    "# b = 5\n",
    "# The result of the integer division 3/5 = 0.\n",
    "# The result of the float division is 3/5 = 0.6.\n",
    "# Print:\n",
    "# 0\n",
    "# 0.6\n",
    "\n",
    "a = 3\n",
    "b = 5\n",
    "\n",
    "print(a // b)\n",
    "print(a / b)"
   ]
  },
  {
   "cell_type": "code",
   "execution_count": null,
   "id": "9b322b72",
   "metadata": {},
   "outputs": [],
   "source": [
    "# 5.\n",
    "# The provided code stub reads and integer, n, from STDIN. For all non-negative integers i < n, print i^2.\n",
    "# Example\n",
    "# n = 3 \n",
    "# The list of non-negative integers that are less than n = 3 is [0,1,2]. Print the square of each number on a separate line.\n",
    "# 0\n",
    "# 1\n",
    "# 4"
   ]
  }
 ],
 "metadata": {
  "kernelspec": {
   "display_name": "Python 3 (ipykernel)",
   "language": "python",
   "name": "python3"
  },
  "language_info": {
   "codemirror_mode": {
    "name": "ipython",
    "version": 3
   },
   "file_extension": ".py",
   "mimetype": "text/x-python",
   "name": "python",
   "nbconvert_exporter": "python",
   "pygments_lexer": "ipython3",
   "version": "3.11.5"
  }
 },
 "nbformat": 4,
 "nbformat_minor": 5
}
