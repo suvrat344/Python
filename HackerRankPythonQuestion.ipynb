{
 "cells": [
  {
   "cell_type": "markdown",
   "id": "4c93909f",
   "metadata": {},
   "source": [
    "## Hacker Rank Python Question"
   ]
  },
  {
   "cell_type": "code",
   "execution_count": 29,
   "id": "fda1bc0e",
   "metadata": {},
   "outputs": [
    {
     "name": "stdout",
     "output_type": "stream",
     "text": [
      "Hello World\n"
     ]
    }
   ],
   "source": [
    "# 1.\n",
    "# print Hello World\n",
    "\n",
    "print(\"Hello World\")"
   ]
  },
  {
   "cell_type": "code",
   "execution_count": 1,
   "id": "7d4a3884",
   "metadata": {},
   "outputs": [
    {
     "name": "stdout",
     "output_type": "stream",
     "text": [
      "Weird\n"
     ]
    }
   ],
   "source": [
    "# 2\n",
    "# Given an integer, , perform the following conditional actions:\n",
    "# If n is odd, print Weird\n",
    "# If n is even and in the inclusive range of 2 to 5, print Not Weird\n",
    "# If n is even and in the inclusive range of 6 to 20, print Weird\n",
    "# If n is even and greater than 20, print Not Weird\n",
    "\n",
    "n = 3\n",
    "\n",
    "if(n % 2 == 1):\n",
    "    print(\"Weird\")\n",
    "elif(n % 2 ==  0):\n",
    "    if(2 <= n <= 5):\n",
    "        print(\"Not Weird\")\n",
    "    elif(6 <= n <= 20):\n",
    "        print(\"Weird\")\n",
    "    else:\n",
    "        print(\"Not Weird\")"
   ]
  },
  {
   "cell_type": "code",
   "execution_count": 2,
   "id": "946c7667",
   "metadata": {},
   "outputs": [
    {
     "name": "stdout",
     "output_type": "stream",
     "text": [
      "8\n",
      "-2\n",
      "15\n"
     ]
    }
   ],
   "source": [
    "# 3.\n",
    "# The provided code stub reads two integers from STDIN,a  and b. Add code to print three lines where:\n",
    "# The first line contains the sum of the two numbers.\n",
    "# The second line contains the difference of the two numbers (first - second).\n",
    "# The third line contains the product of the two numbers.\n",
    "# Example\n",
    "# a =3 \n",
    "# b = 5\n",
    "# Print the following:\n",
    "# 8\n",
    "# -2\n",
    "# 15\n",
    "\n",
    "a = 3\n",
    "b = 5\n",
    "\n",
    "print(a + b)\n",
    "print(a - b)\n",
    "print(a * b)"
   ]
  },
  {
   "cell_type": "code",
   "execution_count": 3,
   "id": "8263e26f",
   "metadata": {},
   "outputs": [
    {
     "name": "stdout",
     "output_type": "stream",
     "text": [
      "0\n",
      "0.6\n"
     ]
    }
   ],
   "source": [
    "# 4.\n",
    "# The provided code stub reads two integers, a and b, from STDIN.\n",
    "# Add logic to print two lines. The first line should contain the result of integer division,  a // b . The second line should\n",
    "# contain the result of float division, a / b.\n",
    "# No rounding or formatting is necessary.\n",
    "# Example\n",
    "# a = 3\n",
    "# b = 5\n",
    "# The result of the integer division 3/5 = 0.\n",
    "# The result of the float division is 3/5 = 0.6.\n",
    "# Print:\n",
    "# 0\n",
    "# 0.6\n",
    "\n",
    "a = 3\n",
    "b = 5\n",
    "\n",
    "print(a // b)\n",
    "print(a / b)"
   ]
  },
  {
   "cell_type": "code",
   "execution_count": 1,
   "id": "9b322b72",
   "metadata": {},
   "outputs": [
    {
     "name": "stdout",
     "output_type": "stream",
     "text": [
      "0\n",
      "1\n",
      "4\n"
     ]
    }
   ],
   "source": [
    "# 5.\n",
    "# The provided code stub reads and integer, n, from STDIN. For all non-negative integers i < n, print i^2.\n",
    "# Example\n",
    "# n = 3 \n",
    "# The list of non-negative integers that are less than n = 3 is [0,1,2]. Print the square of each number on a separate line.\n",
    "# 0\n",
    "# 1\n",
    "# 4\n",
    "\n",
    "n = 3\n",
    "for i in range(0,n):\n",
    "    print(i**2)"
   ]
  },
  {
   "cell_type": "code",
   "execution_count": 9,
   "id": "8a078482",
   "metadata": {},
   "outputs": [
    {
     "data": {
      "text/plain": [
       "False"
      ]
     },
     "execution_count": 9,
     "metadata": {},
     "output_type": "execute_result"
    }
   ],
   "source": [
    "# 6.\n",
    "# Given a year, determine whether it is a leap year. If it is a leap year, return the Boolean True, otherwise return False.\n",
    "# Note that the code stub provided reads from STDIN and passes arguments to the is_leap function. It is only necessary to \n",
    "# complete the is_leap function.\n",
    "\n",
    "def is_leap(year):\n",
    "    if(year % 400 == 0):\n",
    "        return True\n",
    "    if(year % 100 == 0):\n",
    "        return False\n",
    "    \n",
    "    return True if (year % 4 == 0) else False\n",
    "\n",
    "is_leap(2007)"
   ]
  },
  {
   "cell_type": "code",
   "execution_count": 12,
   "id": "d4fdd357",
   "metadata": {},
   "outputs": [
    {
     "name": "stdout",
     "output_type": "stream",
     "text": [
      "12345"
     ]
    }
   ],
   "source": [
    "# 7.\n",
    "# The included code stub will read an integer, n, from STDIN.\n",
    "# Without using any string methods, try to print the following:\n",
    "# Note that \"...\" represents the consecutive values in between.\n",
    "# Example\n",
    "# n = 5\n",
    "# Print the string 12345\n",
    "\n",
    "n = 5\n",
    "\n",
    "for i in range(1,n+1):\n",
    "    print(i,end=\"\")"
   ]
  },
  {
   "cell_type": "code",
   "execution_count": 27,
   "id": "4da052d8",
   "metadata": {},
   "outputs": [
    {
     "name": "stdout",
     "output_type": "stream",
     "text": [
      "[[0, 0, 0], [0, 0, 1], [0, 0, 2], [0, 1, 0], [0, 1, 1], [1, 0, 0], [1, 0, 1], [1, 1, 0], [1, 1, 2]]\n"
     ]
    }
   ],
   "source": [
    "# 8.\n",
    "# You are given three integers x,y and z and representing the dimensions of a cuboid along with an integer n. Print a list of \n",
    "# all possible coordinates given by (i,j,k) on a 3D grid where the sum of  i+j+k is not equal to n. Here, 0<=i<=x;0<=j,=y;\n",
    "# 0<=k<=z.Please use list comprehensions rather than multiple loops, as a learning exercise.\n",
    "# Example\n",
    "# x = 1\n",
    "# y = 1\n",
    "# z = 2\n",
    "# n = 3 \n",
    "# All permutations of [i,j,k] are:\n",
    "# [[0,0,0],[0,0,1],[0,0,2],[0,1,0],[0,1,1],[0,1,2],[1,0,0],[1,0,1],[1,0,2],[1,1,0],[1,1,1],[1,1,2]]\n",
    "# Print an array of the elements that do not sum to n = 3.\n",
    "# [[0,0,0],[0,0,1],[0,0,2],[0,1,0],[0,1,1],[1,0,0],[1,0,1],[1,1,0],[1,1,1],[1,1,2]]\n",
    "\n",
    "x = 1\n",
    "y = 1\n",
    "z = 2\n",
    "n = 3\n",
    "result = [[i, j, k] for i in range(x + 1) for j in range(y + 1) for k in range(z + 1) if (i + j + k) != n]\n",
    "print(result)"
   ]
  },
  {
   "cell_type": "code",
   "execution_count": 42,
   "id": "f63b9847",
   "metadata": {},
   "outputs": [
    {
     "data": {
      "text/plain": [
       "5"
      ]
     },
     "execution_count": 42,
     "metadata": {},
     "output_type": "execute_result"
    }
   ],
   "source": [
    "# 9.\n",
    "# Given the participants' score sheet for your University Sports Day, you are required to find the runner-up score. You are \n",
    "# given n scores. Store them in a list and find the score of the runner-up.\n",
    "# Input\n",
    "# 5\n",
    "# 2 3 6 6 5\n",
    "# Output\n",
    "# 5\n",
    "\n",
    "n = 5 \n",
    "l = [2,3,6,6,5]\n",
    "\n",
    "l = sorted(set(l),reverse=True)\n",
    "l[1]"
   ]
  },
  {
   "cell_type": "code",
   "execution_count": 48,
   "id": "a276744b",
   "metadata": {},
   "outputs": [
    {
     "name": "stdout",
     "output_type": "stream",
     "text": [
      "12\n",
      "insert 0 5\n",
      "insert 1 10\n",
      "insert 0 6\n",
      "print\n",
      "[6, 5, 10]\n",
      "remove 6\n",
      "append 9\n",
      "sort\n",
      "print\n",
      "[5, 9, 10]\n",
      "pop\n",
      "reverse\n",
      "print\n",
      "[9, 5]\n",
      "print\n",
      "[9, 5]\n"
     ]
    }
   ],
   "source": [
    "# 10.\n",
    "# Consider a list (list = []). You can perform the following commands:\n",
    "# 1. insert i e: Insert integer e at position i.\n",
    "# 2. print: Print the list.\n",
    "# 3. remove e: Delete the first occurrence of integer e.\n",
    "# 4. append e: Insert integer e at the end of the list.\n",
    "# 5. sort: Sort the list.\n",
    "# 6. pop: Pop the last element from the list.\n",
    "# 7. reverse: Reverse the list.\n",
    "# Initialize your list and read in the value of n followed by n lines of commands where each command will be of the  types \n",
    "# listed above. Iterate through each command in order and perform the corresponding operation on your list.\n",
    "# Example\n",
    "# N = 4\n",
    "# append 1: Append 1 to the list,arr = [1]\n",
    "# append 2: Append 2 to the list,arr = [1,2]\n",
    "# insert 3 1: Insert 3 at index 1,arr = [1,3,2]\n",
    "# print: Print the array\n",
    "# : Append  to the list, .\n",
    "# Output:\n",
    "# [1, 3, 2]\n",
    "\n",
    "N = int(input())\n",
    "l = []\n",
    "\n",
    "for i in range(N):\n",
    "    n = input().split()\n",
    "    if(n[0] == \"insert\"):\n",
    "        l.insert(int(n[1]),int(n[2]))\n",
    "    elif(n[0] == \"append\"):\n",
    "         l.append(int(n[1]))\n",
    "    elif(n[0] == \"remove\"):\n",
    "        l.remove(int(n[1]))\n",
    "    elif(n[0] == \"sort\"):\n",
    "        l.sort()   \n",
    "    elif(n[0] == \"pop\"):\n",
    "        l.pop()\n",
    "    elif(n[0] == \"reverse\"):\n",
    "        l = l[::-1]\n",
    "    else:\n",
    "        print(l)"
   ]
  },
  {
   "cell_type": "code",
   "execution_count": null,
   "id": "1004cbe5",
   "metadata": {},
   "outputs": [],
   "source": []
  }
 ],
 "metadata": {
  "kernelspec": {
   "display_name": "Python 3 (ipykernel)",
   "language": "python",
   "name": "python3"
  },
  "language_info": {
   "codemirror_mode": {
    "name": "ipython",
    "version": 3
   },
   "file_extension": ".py",
   "mimetype": "text/x-python",
   "name": "python",
   "nbconvert_exporter": "python",
   "pygments_lexer": "ipython3",
   "version": "3.11.5"
  }
 },
 "nbformat": 4,
 "nbformat_minor": 5
}
